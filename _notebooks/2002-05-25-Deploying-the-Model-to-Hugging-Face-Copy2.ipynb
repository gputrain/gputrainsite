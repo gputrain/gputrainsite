{
 "cells": [
  {
   "cell_type": "markdown",
   "id": "5899f226",
   "metadata": {},
   "source": [
    "# 2 Deploying a Fast AI model to Hugging Face\n",
    "> Steps to get the hugging face gradio application to work\n",
    "\n",
    "- toc: false \n",
    "- badges: true\n",
    "- comments: true\n",
    "- categories: [sound, hugging face, fastai]\n",
    "- image: images/Hugging-Face.png"
   ]
  },
  {
   "cell_type": "markdown",
   "id": "a1ca4693",
   "metadata": {},
   "source": [
    "## Know before getting started"
   ]
  },
  {
   "cell_type": "code",
   "execution_count": 12,
   "id": "317020b7",
   "metadata": {},
   "outputs": [
    {
     "name": "stdout",
     "output_type": "stream",
     "text": [
      "Running on local URL:  http://127.0.0.1:7861/\n",
      "\n",
      "To create a public link, set `share=True` in `launch()`.\n"
     ]
    },
    {
     "data": {
      "text/html": [
       "\n",
       "        <iframe\n",
       "            width=\"900\"\n",
       "            height=\"500\"\n",
       "            src=\"http://127.0.0.1:7861/\"\n",
       "            frameborder=\"0\"\n",
       "            allowfullscreen\n",
       "            \n",
       "        ></iframe>\n",
       "        "
      ],
      "text/plain": [
       "<IPython.lib.display.IFrame at 0x7f67101bffa0>"
      ]
     },
     "metadata": {},
     "output_type": "display_data"
    },
    {
     "data": {
      "text/plain": [
       "(<gradio.routes.App at 0x7f671108ce50>, 'http://127.0.0.1:7861/', None)"
      ]
     },
     "execution_count": 12,
     "metadata": {},
     "output_type": "execute_result"
    }
   ],
   "source": [
    "#collapse-hide\n",
    "\n",
    "launch_options = {\n",
    "    \"enable_queue\": True,\n",
    "    \"share\": False,\n",
    "    #\"cache_examples\": True,\n",
    "}\n",
    "\n",
    "demo.launch(**launch_options)\n"
   ]
  },
  {
   "cell_type": "markdown",
   "id": "06fdb1c2",
   "metadata": {},
   "source": [
    "## Hugging Face \n",
    "\n",
    "The final end point once you assemble all this work through the logs (to resolve errors) is [here](https://huggingface.co/spaces/gputrain/UrbanSounds8K)\n",
    "\n",
    "![](images/logs.PNG)"
   ]
  },
  {
   "cell_type": "code",
   "execution_count": null,
   "id": "c25367f8",
   "metadata": {},
   "outputs": [],
   "source": []
  }
 ],
 "metadata": {
  "kernelspec": {
   "display_name": "conda_pytorch_p38",
   "language": "python",
   "name": "conda_pytorch_p38"
  },
  "language_info": {
   "codemirror_mode": {
    "name": "ipython",
    "version": 3
   },
   "file_extension": ".py",
   "mimetype": "text/x-python",
   "name": "python",
   "nbconvert_exporter": "python",
   "pygments_lexer": "ipython3",
   "version": "3.8.12"
  }
 },
 "nbformat": 4,
 "nbformat_minor": 5
}
