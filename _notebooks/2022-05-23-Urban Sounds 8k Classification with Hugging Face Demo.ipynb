{
 "cells": [
  {
   "cell_type": "markdown",
   "id": "c4f98c97",
   "metadata": {},
   "source": [
    "# Urban Sounds 8k Classification with Hugging Face Demo\n",
    "> First tutorial using fastpages Jupyter notebook blog - Deploy a fast ai model to HuggingFaces\n",
    "\n",
    "- toc: true \n",
    "- badges: true\n",
    "- comments: true\n",
    "- categories: [sound, hugging face, fastai]\n",
    "- image: images/melspectrogram.png"
   ]
  },
  {
   "cell_type": "markdown",
   "id": "0cecb470",
   "metadata": {},
   "source": [
    "## Hugging Face Demo"
   ]
  },
  {
   "cell_type": "markdown",
   "id": "63b63209",
   "metadata": {},
   "source": [
    "Here is a demo of what this model at Hugging Face : [Urban Sound 8K Classification](https://huggingface.co/spaces/gputrain/UrbanSounds8K)"
   ]
  },
  {
   "cell_type": "markdown",
   "id": "10797de4",
   "metadata": {},
   "source": [
    "## Background "
   ]
  },
  {
   "cell_type": "markdown",
   "id": "46a59cf6",
   "metadata": {},
   "source": [
    "Urban Sounds is a dataset of 8732 labeled sounds of less than 4 seconds each from 10 classes. Dataset for [UrbanSounds8K](https://urbansounddataset.weebly.com/urbansound8k.html) contains these 10 classes:\n",
    "\n",
    "1.  air_conditioner\n",
    "2.  car_horn\n",
    "3.  children_playing\n",
    "4.  dog_bark\n",
    "5.  drilling\n",
    "6.  engine_idling\n",
    "7.  gun_shot\n",
    "8.  jackhammer\n",
    "9.  siren\n",
    "10. street_music\n",
    "\n",
    "\n",
    "[Research with this dataset as of 2019](https://www.researchgate.net/publication/335862311_Evaluation_of_Classical_Machine_Learning_Techniques_towards_Urban_Sound_Recognition_on_Embedded_Systems) and optimized ML approaches as of late 2019 had classification accuracy at 74% with a k-nearest neighbours (KNN) algorithm. A deep learning neural network trained from scratch obtained accuracy at 76% accuracy.\n",
    "\n",
    "\n",
    "![Accuracy metrics](https://www.researchgate.net/profile/Bruno-Silva-172/publication/335862311/figure/fig2/AS:804132151652353@1568731453277/Achieved-accuracy-of-the-classifiers-with-their-default-and-optimized-configuration.png \"research\")\n",
    "\n",
    "*(accuracy metrics for research article)*\n",
    "\n",
    "The state-of-the-art methods for audio classification approach  this problem as an image classification task. For such image classification problems from audio samples, three common transformation approaches are:\n",
    "\n",
    "- 1. Linear Spectrograms\n",
    "- 2. Log Spectrograms\n",
    "- 3. Mel Spectrograms\n",
    "\n",
    "You can learn more about these three transformations in [Scott Duda's article](https://scottmduda.medium.com/urban-environmental-audio-classification-using-mel-spectrograms-706ee6f8dcc1) and [Ketan Doshi's writing](https://towardsdatascience.com/audio-deep-learning-made-simple-part-2-why-mel-spectrograms-perform-better-aad889a93505), reasoning why Mel Spectrograms perform better in general for visual transformations of audio files.\n",
    "\n",
    "The transformation on these audio files is another notebook that I will add a write-up here. You can find all of the associated [code here](https://github.com/gputrain/fastai2-coursework)."
   ]
  },
  {
   "cell_type": "markdown",
   "id": "66a14c6c",
   "metadata": {},
   "source": [
    "## Code"
   ]
  },
  {
   "cell_type": "markdown",
   "id": "0cbdfdf0",
   "metadata": {},
   "source": [
    "### Import the necessary modules \n",
    "\n",
    "Using an AWS conda_pytorch_p38 environment with a ml.g4dn.2xlarge machine type"
   ]
  },
  {
   "cell_type": "code",
   "execution_count": 1,
   "id": "b48168e0",
   "metadata": {},
   "outputs": [],
   "source": [
    "#collapse-hide\n",
    "\n",
    "\n",
    "# !pip install librosa\n",
    "# !pip install fastbook\n",
    "# !pip install gradio"
   ]
  },
  {
   "cell_type": "code",
   "execution_count": 2,
   "id": "0a1a65be",
   "metadata": {},
   "outputs": [],
   "source": [
    "#collapse-hide\n",
    "\n",
    "import pandas as pd\n",
    "from fastai.vision.all import *\n",
    "from fastai.data.all import *\n",
    "import matplotlib.pyplot as plt\n",
    "from matplotlib.pyplot import specgram\n",
    "import librosa\n",
    "import librosa.display\n",
    "import numpy as np\n",
    "from pathlib import Path\n",
    "import os\n",
    "import random\n",
    "import IPython\n",
    "from tqdm import tqdm\n",
    "from sklearn.metrics import accuracy_score\n",
    "import gradio as gr\n",
    "\n",
    "from collections import OrderedDict"
   ]
  },
  {
   "cell_type": "markdown",
   "id": "08313c82",
   "metadata": {},
   "source": [
    "### Custom Labelling Function For Classification\n",
    "\n",
    "This function reads the categorisation information into a dictionary and then uses that filename lookup to recognise the class of a particular image"
   ]
  },
  {
   "cell_type": "code",
   "execution_count": 3,
   "id": "b1e943bc",
   "metadata": {},
   "outputs": [],
   "source": [
    "#collapse-show\n",
    "df = pd.read_csv('UrbanSound8K/metadata/UrbanSound8K.csv')  #classification information across folds as provided from Urbansounds\n",
    "df['fname'] = df[['slice_file_name','fold']].apply (lambda x: str(x['slice_file_name'][:-4])+'.png'.strip(),axis=1 )\n",
    "my_dict = dict(zip(df.fname,df['class']))\n",
    "def label_func(f_name):\n",
    "    f_name = str(f_name).split('/')[-1:][0]\n",
    "    return my_dict[f_name]"
   ]
  },
  {
   "cell_type": "markdown",
   "id": "d2240ad4",
   "metadata": {},
   "source": [
    "### File distribution across the folds"
   ]
  },
  {
   "cell_type": "code",
   "execution_count": 4,
   "id": "a792c780",
   "metadata": {},
   "outputs": [
    {
     "data": {
      "text/plain": [
       "Text(0.5, 1.0, 'Files in each fold')"
      ]
     },
     "execution_count": 4,
     "metadata": {},
     "output_type": "execute_result"
    },
    {
     "data": {
      "image/png": "[encoded data removed]",
      "text/plain": [
       "<Figure size 432x288 with 1 Axes>"
      ]
     },
     "metadata": {
      "needs_background": "light"
     },
     "output_type": "display_data"
    }
   ],
   "source": [
    "#collapse-show\n",
    "\n",
    "df.groupby(['fold']).classID.count().sort_values(ascending=False).plot.bar()\n",
    "plt.ylabel('Files in each fold')\n",
    "plt.title('Files in each fold')"
   ]
  },
  {
   "cell_type": "markdown",
   "id": "76df71ca",
   "metadata": {},
   "source": [
    "### Class distribution across the sound types"
   ]
  },
  {
   "cell_type": "code",
   "execution_count": 5,
   "id": "45b6f467",
   "metadata": {},
   "outputs": [
    {
     "data": {
      "text/plain": [
       "Text(0.5, 1.0, 'Class distribution in the dataset')"
      ]
     },
     "execution_count": 5,
     "metadata": {},
     "output_type": "execute_result"
    },
    {
     "data": {
      "image/png": "[encoded data removed]",
      "text/plain": [
       "<Figure size 432x288 with 1 Axes>"
      ]
     },
     "metadata": {
      "needs_background": "light"
     },
     "output_type": "display_data"
    }
   ],
   "source": [
    "#collapse-show\n",
    "\n",
    "df.groupby('class').classID.count().sort_values(ascending=False).plot.bar()\n",
    "plt.ylabel('count')\n",
    "plt.title('Class distribution in the dataset')"
   ]
  },
  {
   "cell_type": "markdown",
   "id": "5c5003f2",
   "metadata": {},
   "source": [
    "### Model Build\n",
    "\n",
    "Spider through all the folders for images (transformation of sound to melspectrograms is another notebook). "
   ]
  },
  {
   "cell_type": "code",
   "execution_count": 6,
   "id": "3b5ad60e",
   "metadata": {},
   "outputs": [],
   "source": [
    "# collapse-hide\n",
    "\n",
    "all_folds = list(np.arange(1,11))\n",
    "all_folders = [str(i) for i in all_folds]\n",
    "image_files_loc = 'UrbanSoundTransforms/mel_spectrogram/'\n",
    "all_files = get_image_files(image_files_loc,recurse=True, folders =all_folders )\n"
   ]
  },
  {
   "cell_type": "markdown",
   "id": "42d244be",
   "metadata": {},
   "source": [
    "### Datablock with an 80-20 Random split on entire dataset"
   ]
  },
  {
   "cell_type": "code",
   "execution_count": 7,
   "id": "68fffcb2",
   "metadata": {},
   "outputs": [
    {
     "name": "stdout",
     "output_type": "stream",
     "text": [
      "Train has 6986 images and test has 1746 images.\n"
     ]
    },
    {
     "data": {
      "text/html": [
       "\n",
       "<style>\n",
       "    /* Turns off some styling */\n",
       "    progress {\n",
       "        /* gets rid of default border in Firefox and Opera. */\n",
       "        border: none;\n",
       "        /* Needs to be in here for Safari polyfill so background images work as expected. */\n",
       "        background-size: auto;\n",
       "    }\n",
       "    .progress-bar-interrupted, .progress-bar-interrupted::-webkit-progress-bar {\n",
       "        background: #F44336;\n",
       "    }\n",
       "</style>\n"
      ],
      "text/plain": [
       "<IPython.core.display.HTML object>"
      ]
     },
     "metadata": {},
     "output_type": "display_data"
    },
    {
     "data": {
      "text/html": [
       "<table border=\"1\" class=\"dataframe\">\n",
       "  <thead>\n",
       "    <tr style=\"text-align: left;\">\n",
       "      <th>epoch</th>\n",
       "      <th>train_loss</th>\n",
       "      <th>valid_loss</th>\n",
       "      <th>accuracy</th>\n",
       "      <th>time</th>\n",
       "    </tr>\n",
       "  </thead>\n",
       "  <tbody>\n",
       "    <tr>\n",
       "      <td>0</td>\n",
       "      <td>1.510322</td>\n",
       "      <td>0.698512</td>\n",
       "      <td>0.781787</td>\n",
       "      <td>00:31</td>\n",
       "    </tr>\n",
       "  </tbody>\n",
       "</table>"
      ],
      "text/plain": [
       "<IPython.core.display.HTML object>"
      ]
     },
     "metadata": {},
     "output_type": "display_data"
    },
    {
     "data": {
      "text/html": [
       "\n",
       "<style>\n",
       "    /* Turns off some styling */\n",
       "    progress {\n",
       "        /* gets rid of default border in Firefox and Opera. */\n",
       "        border: none;\n",
       "        /* Needs to be in here for Safari polyfill so background images work as expected. */\n",
       "        background-size: auto;\n",
       "    }\n",
       "    .progress-bar-interrupted, .progress-bar-interrupted::-webkit-progress-bar {\n",
       "        background: #F44336;\n",
       "    }\n",
       "</style>\n"
      ],
      "text/plain": [
       "<IPython.core.display.HTML object>"
      ]
     },
     "metadata": {},
     "output_type": "display_data"
    },
    {
     "data": {
      "text/html": [
       "<table border=\"1\" class=\"dataframe\">\n",
       "  <thead>\n",
       "    <tr style=\"text-align: left;\">\n",
       "      <th>epoch</th>\n",
       "      <th>train_loss</th>\n",
       "      <th>valid_loss</th>\n",
       "      <th>accuracy</th>\n",
       "      <th>time</th>\n",
       "    </tr>\n",
       "  </thead>\n",
       "  <tbody>\n",
       "    <tr>\n",
       "      <td>0</td>\n",
       "      <td>0.615340</td>\n",
       "      <td>0.356023</td>\n",
       "      <td>0.888889</td>\n",
       "      <td>00:39</td>\n",
       "    </tr>\n",
       "    <tr>\n",
       "      <td>1</td>\n",
       "      <td>0.270150</td>\n",
       "      <td>0.213896</td>\n",
       "      <td>0.932990</td>\n",
       "      <td>00:40</td>\n",
       "    </tr>\n",
       "    <tr>\n",
       "      <td>2</td>\n",
       "      <td>0.084770</td>\n",
       "      <td>0.181070</td>\n",
       "      <td>0.943299</td>\n",
       "      <td>00:40</td>\n",
       "    </tr>\n",
       "  </tbody>\n",
       "</table>"
      ],
      "text/plain": [
       "<IPython.core.display.HTML object>"
      ]
     },
     "metadata": {},
     "output_type": "display_data"
    }
   ],
   "source": [
    "#collapse-hide\n",
    "\n",
    "dblock = DataBlock(blocks=(ImageBlock,CategoryBlock),\n",
    "                   get_y     = label_func,\n",
    "                   splitter  = RandomSplitter(seed=1),\n",
    "                   \n",
    "                  )\n",
    "dl = dblock.dataloaders(all_files)\n",
    "print ('Train has {0} images and test has {1} images.' .format(len(dl.train_ds),len(dl.valid_ds)))\n",
    "learn = vision_learner(dl, resnet34, metrics=accuracy)\n",
    "learn.fine_tune(3)"
   ]
  },
  {
   "cell_type": "markdown",
   "id": "f165f4e5",
   "metadata": {},
   "source": [
    "### Export the model"
   ]
  },
  {
   "cell_type": "code",
   "execution_count": 8,
   "id": "4f879263",
   "metadata": {},
   "outputs": [],
   "source": [
    "#collapse-show\n",
    "\n",
    "learn.export()"
   ]
  },
  {
   "cell_type": "code",
   "execution_count": null,
   "id": "6f8b520a",
   "metadata": {},
   "outputs": [],
   "source": []
  },
  {
   "cell_type": "code",
   "execution_count": null,
   "id": "cae6d599",
   "metadata": {},
   "outputs": [],
   "source": []
  },
  {
   "cell_type": "code",
   "execution_count": null,
   "id": "920913fd",
   "metadata": {},
   "outputs": [],
   "source": []
  }
 ],
 "metadata": {
  "kernelspec": {
   "display_name": "conda_pytorch_p38",
   "language": "python",
   "name": "conda_pytorch_p38"
  },
  "language_info": {
   "codemirror_mode": {
    "name": "ipython",
    "version": 3
   },
   "file_extension": ".py",
   "mimetype": "text/x-python",
   "name": "python",
   "nbconvert_exporter": "python",
   "pygments_lexer": "ipython3",
   "version": "3.8.12"
  }
 },
 "nbformat": 4,
 "nbformat_minor": 5
}
